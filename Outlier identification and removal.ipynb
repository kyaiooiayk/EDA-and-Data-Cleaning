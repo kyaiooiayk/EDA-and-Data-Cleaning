{
 "cells": [
  {
   "cell_type": "markdown",
   "metadata": {},
   "source": [
    "# Introduction"
   ]
  },
  {
   "cell_type": "markdown",
   "metadata": {},
   "source": [
    "<div class=\"alert alert-block alert-warning\">\n",
    "<font color=black><br>\n",
    "\n",
    "**What?** Outlier identification and removal.\n",
    "\n",
    "<br></font>\n",
    "</div>"
   ]
  },
  {
   "cell_type": "markdown",
   "metadata": {},
   "source": [
    "# Avaiilable methods"
   ]
  },
  {
   "cell_type": "markdown",
   "metadata": {},
   "source": [
    "<div class=\"alert alert-block alert-info\">\n",
    "<font color=black><br>\n",
    "\n",
    "- [1] Standard deviation method\n",
    "- [2] Interquartile range method\n",
    "- [3] Automatic Outlier Detection -> LocalOutlierDetection & DBScan\n",
    "- [4] Boxplots\n",
    "- [5] DBScan clustering\n",
    "- [6] Isolation Forest\n",
    "- [7] Robust Random Cut Forest\n",
    "\n",
    "<br></font>\n",
    "</div>"
   ]
  },
  {
   "cell_type": "markdown",
   "metadata": {},
   "source": [
    "# Import modules"
   ]
  },
  {
   "cell_type": "code",
   "execution_count": 21,
   "metadata": {},
   "outputs": [],
   "source": [
    "import numpy as np\n",
    "import seaborn as sns\n",
    "from numpy import std\n",
    "from numpy import mean\n",
    "from numpy import percentile\n",
    "from pandas import read_csv\n",
    "from numpy.random import seed\n",
    "from numpy.random import randn\n",
    "from sklearn.cluster import DBSCAN\n",
    "from IPython.display import Markdown, display\n",
    "from sklearn.metrics import mean_absolute_error\n",
    "from sklearn.neighbors import LocalOutlierFactor\n",
    "from sklearn.linear_model import LinearRegression\n",
    "from sklearn.model_selection import train_test_split\n",
    "from sklearn.ensemble import IsolationForest"
   ]
  },
  {
   "cell_type": "markdown",
   "metadata": {},
   "source": [
    "# Synthetic data generation"
   ]
  },
  {
   "cell_type": "code",
   "execution_count": 7,
   "metadata": {},
   "outputs": [
    {
     "name": "stdout",
     "output_type": "stream",
     "text": [
      "mean=50.049 stdv=4.994\n"
     ]
    }
   ],
   "source": [
    "# seed the random number generator so to get consistent result\n",
    "seed(1)\n",
    "# generate univariate observations\n",
    "data = 5 * randn(10000) + 50\n",
    "# summarize\n",
    "print('mean=%.3f stdv=%.3f' % (mean(data), std(data)))"
   ]
  },
  {
   "cell_type": "markdown",
   "metadata": {},
   "source": [
    "# Standard deviation method"
   ]
  },
  {
   "cell_type": "markdown",
   "metadata": {},
   "source": [
    "<div class=\"alert alert-block alert-info\">\n",
    "<font color=black><br>\n",
    "\n",
    "- The Gaussian distribution has the property that the standard deviation from the mean can be used to reliably summarize the percentage of values in the sample.\n",
    "\n",
    "- 1 * sigma from the Mean: account for 68% of sampled data\n",
    "- 2 * sigma from the Mean: account for 95% of sampled data\n",
    "- 3  * sigma from the Mean: account for 99.7% of sampled data\n",
    "\n",
    "- Three sigma from the mean is a common cut-off in practice for identifying outliers in a Gaussian or Gaussian-like distribution.\n",
    "\n",
    "<br></font>\n",
    "</div>"
   ]
  },
  {
   "attachments": {
    "image.png": {
     "image/png": "[encoded data removed]"
    }
   },
   "cell_type": "markdown",
   "metadata": {},
   "source": [
    "![image.png](attachment:image.png)"
   ]
  },
  {
   "cell_type": "code",
   "execution_count": 8,
   "metadata": {},
   "outputs": [
    {
     "name": "stdout",
     "output_type": "stream",
     "text": [
      "Identified outliers: 29\n",
      "Non-outlier observations: 9971\n"
     ]
    }
   ],
   "source": [
    "# calculate summary statistics\n",
    "data_mean, data_std = mean(data), std(data)\n",
    "# define outliers\n",
    "cut_off = data_std * 3\n",
    "lower, upper = data_mean - cut_off, data_mean + cut_off \n",
    "# identify outliers\n",
    "outliers = [x for x in data if x < lower or x > upper] \n",
    "print('Identified outliers: %d' % len(outliers))\n",
    "# remove outliers\n",
    "outliers_removed = [x for x in data if x >= lower and x <= upper]\n",
    "print('Non-outlier observations: %d' % len(outliers_removed))"
   ]
  },
  {
   "cell_type": "markdown",
   "metadata": {},
   "source": [
    "**Another code**"
   ]
  },
  {
   "cell_type": "code",
   "execution_count": 16,
   "metadata": {},
   "outputs": [
    {
     "name": "stdout",
     "output_type": "stream",
     "text": [
      "-39.61450321504696\n"
     ]
    },
    {
     "data": {
      "text/plain": [
       "[-41.30494772511221,\n",
       " -49.35658065511754,\n",
       " 80.77790126117762,\n",
       " -43.38734141658075,\n",
       " 79.82796433212917,\n",
       " -47.27400148804358,\n",
       " 87.75949264627721,\n",
       " -44.577018740944624,\n",
       " 79.88576328191265,\n",
       " -39.81445955020072,\n",
       " -47.5814503805003,\n",
       " -45.097057272167405,\n",
       " -42.162992426237736,\n",
       " 86.37232866234721,\n",
       " 93.49620695309294,\n",
       " 90.47940208284652,\n",
       " -42.44939962675426,\n",
       " -43.681072661374635,\n",
       " -39.79393514109955,\n",
       " 88.54432055627417,\n",
       " 83.61372781752891,\n",
       " 93.5911895665595,\n",
       " -40.07422673755443,\n",
       " -44.327387606827315,\n",
       " 82.77707422734392,\n",
       " -44.156340280387965,\n",
       " 82.71533725439022,\n",
       " 95.73931738615298,\n",
       " -58.73005896216219,\n",
       " 80.43949259409719,\n",
       " 94.04386687228903,\n",
       " -40.29322560537632,\n",
       " 85.17540220074247,\n",
       " 82.18262556044832,\n",
       " -51.232543524175654,\n",
       " -48.857415192818394,\n",
       " 86.47367534831128,\n",
       " -48.47845663415657,\n",
       " -66.53774560713664,\n",
       " 80.97131911086635,\n",
       " 82.33169928562482,\n",
       " 82.69495605495861,\n",
       " 80.13534108289548,\n",
       " -42.05369188558468,\n",
       " -40.45304113005137,\n",
       " 82.7857177612978,\n",
       " 82.65006237295758,\n",
       " -41.82909959417919,\n",
       " -44.258575503689684,\n",
       " 80.9483556655503,\n",
       " 83.54354863841272,\n",
       " 82.69192331145152,\n",
       " 89.5869855600622,\n",
       " -49.02159718898989,\n",
       " -58.105826478473986,\n",
       " 81.52370868007672,\n",
       " 82.48785708767517,\n",
       " -42.039895086152576,\n",
       " 81.74497514161263,\n",
       " 79.85073926644492,\n",
       " -43.98069291225237,\n",
       " -41.804391657749306,\n",
       " 79.80513327799677,\n",
       " -42.161207708501266,\n",
       " -45.70920160617551,\n",
       " -40.078912667443575,\n",
       " -45.700704891448595,\n",
       " 81.15484651302043,\n",
       " -51.865191238062266,\n",
       " -42.97168537944148,\n",
       " 81.19121152027327,\n",
       " -42.22618587708712,\n",
       " -53.46151665765194,\n",
       " 81.98833123145035,\n",
       " -42.39080606272993,\n",
       " -42.13124653205519,\n",
       " 89.45365446134934,\n",
       " -49.68311118468495,\n",
       " 79.96944943215897,\n",
       " 93.28188477698595,\n",
       " 80.83074489756339,\n",
       " 82.23105160079933,\n",
       " 85.43679753639859,\n",
       " 86.04274779400491,\n",
       " 80.8993171369284,\n",
       " 81.60955641920876,\n",
       " 79.95888831387776,\n",
       " -39.84439075386515,\n",
       " 96.69114912103123,\n",
       " 84.11648741437365,\n",
       " -46.11142560512505,\n",
       " -41.39955622004671,\n",
       " 99.9544631704814,\n",
       " -46.21219582121144,\n",
       " -46.02062453185327,\n",
       " -47.46995124587981,\n",
       " -45.40257262469106,\n",
       " 83.62976010893419,\n",
       " -43.313021209453424,\n",
       " -41.57910592391716,\n",
       " 84.22717972345882,\n",
       " 85.84288613037793,\n",
       " 91.81151224002357,\n",
       " -40.20917253307541,\n",
       " -39.674139046016194,\n",
       " 81.92850721098642,\n",
       " 83.08572002670664,\n",
       " 84.32367815282454,\n",
       " -46.82973286737854,\n",
       " 82.2413477537983,\n",
       " 101.1107643084932,\n",
       " -51.62993854905959,\n",
       " -46.83269796670959,\n",
       " -43.15216562369126,\n",
       " 83.71139349235202,\n",
       " -53.29746357024399,\n",
       " -41.06074081113984,\n",
       " -42.333250051509374,\n",
       " 85.40524180974509,\n",
       " 80.16331759824848,\n",
       " 83.77009927951124,\n",
       " 80.68442924070095,\n",
       " -42.94513734705451,\n",
       " 81.76251706563008,\n",
       " -39.74043707807088,\n",
       " 89.42319285775936,\n",
       " -41.8790468347119,\n",
       " 85.73124680797622,\n",
       " 85.83385461854293,\n",
       " 83.63601170825345,\n",
       " -51.9389625149427,\n",
       " 80.25926366773001,\n",
       " 80.90451747796004,\n",
       " -40.45487354921674,\n",
       " 81.66642235408636,\n",
       " -53.94989890980652,\n",
       " 87.83949633882146,\n",
       " 80.91320309051213,\n",
       " -42.25777400317575,\n",
       " -39.67460998611959,\n",
       " 81.66325617477432,\n",
       " 81.11257053532567,\n",
       " 82.63573181888866,\n",
       " 85.52684955288842,\n",
       " -42.43546515880973,\n",
       " 83.49069380368957,\n",
       " -43.951829812292104,\n",
       " 81.97754320544988,\n",
       " 81.81023483422209,\n",
       " -43.724292234317105,\n",
       " -49.37510478300102,\n",
       " -41.279580126247346,\n",
       " -43.26188830901885,\n",
       " -42.60500941494208,\n",
       " -39.703651104628804,\n",
       " 83.84966953541232,\n",
       " -43.74938442188788,\n",
       " 82.51354132668814,\n",
       " -41.66960120772373,\n",
       " 80.80531723200818]"
      ]
     },
     "execution_count": 16,
     "metadata": {},
     "output_type": "execute_result"
    }
   ],
   "source": [
    "# multiply and add by random numbers to get some real values\n",
    "data = np.random.randn(50000)  * 20 + 20\n",
    "\n",
    "# Function to Detection Outlier on one-dimentional datasets.\n",
    "def find_anomalies(random_data):\n",
    "    #define a list to accumlate anomalies\n",
    "    anomalies = []\n",
    "    \n",
    "    # Set upper and lower limit to 3 standard deviation\n",
    "    random_data_std = std(random_data)\n",
    "    random_data_mean = mean(random_data)\n",
    "    anomaly_cut_off = random_data_std * 3\n",
    "    \n",
    "    lower_limit  = random_data_mean - anomaly_cut_off \n",
    "    upper_limit = random_data_mean + anomaly_cut_off\n",
    "    print(lower_limit)\n",
    "    # Generate outliers\n",
    "    for outlier in random_data:\n",
    "        if outlier > upper_limit or outlier < lower_limit:\n",
    "            anomalies.append(outlier)\n",
    "    return anomalies\n",
    "\n",
    "find_anomalies(data)"
   ]
  },
  {
   "cell_type": "markdown",
   "metadata": {},
   "source": [
    "# Interquatile range method"
   ]
  },
  {
   "cell_type": "markdown",
   "metadata": {},
   "source": [
    "<div class=\"alert alert-block alert-info\">\n",
    "<font color=black><br>\n",
    "\n",
    "- A good statistic for summarizing a non-Gaussian distribution sample of data is the Interquartile Range (IQR). \n",
    "- The IQR can be used to identify outliers by defining limits on the sample values that are a factor k of the IQR below the 25th percentile or above the 75th percentile. \n",
    "- The common value for the  factor k is the value 1.5. \n",
    "- A factor k of 3 or more can be used to identify values that are extreme outliers or far outs when described in the context of box and whisker plots. \n",
    "\n",
    "<br></font>\n",
    "</div>"
   ]
  },
  {
   "cell_type": "code",
   "execution_count": 9,
   "metadata": {},
   "outputs": [
    {
     "name": "stdout",
     "output_type": "stream",
     "text": [
      "Percentiles: 25th=46.685, 75th=53.359, IQR=6.674\n",
      "Identified outliers: 81\n",
      "Non-outlier observations: 9919\n"
     ]
    }
   ],
   "source": [
    "# seed the random number generator\n",
    "seed(1)\n",
    "# generate univariate observations\n",
    "data = 5 * randn(10000) + 50\n",
    "# calculate interquartile range\n",
    "q25, q75 = percentile(data, 25), percentile(data, 75)\n",
    "iqr = q75 - q25\n",
    "print('Percentiles: 25th=%.3f, 75th=%.3f, IQR=%.3f' % (q25, q75, iqr)) \n",
    "# calculate the outlier cutoff\n",
    "cut_off = iqr * 1.5\n",
    "lower, upper = q25 - cut_off, q75 + cut_off\n",
    "# identify outliers\n",
    "outliers = [x for x in data if x < lower or x > upper] \n",
    "print('Identified outliers: %d' % len(outliers))\n",
    "# remove outliers\n",
    "outliers_removed = [x for x in data if x >= lower and x <= upper] \n",
    "print('Non-outlier observations: %d' % len(outliers_removed))\n"
   ]
  },
  {
   "cell_type": "markdown",
   "metadata": {},
   "source": [
    "# Automatic Outlier Detection method: SKLEARN LocalOutlierFactor"
   ]
  },
  {
   "cell_type": "markdown",
   "metadata": {},
   "source": [
    "<div class=\"alert alert-block alert-info\">\n",
    "<font color=black><br>\n",
    "\n",
    "- In machine learning, an approach to tackling the problem of outlier detection is one-class classification. \n",
    "- A simple approach to identifying outliers is to locate those examples that are far from the other examples in the multi-dimensional feature space. \n",
    "- This can work well for feature spaces with low dimensionality (few features), although it can become less reliable as the number of features is increased, referred to as the curse of dimensionality.\n",
    "\n",
    "<br></font>\n",
    "</div>"
   ]
  },
  {
   "cell_type": "code",
   "execution_count": 11,
   "metadata": {},
   "outputs": [
    {
     "name": "stdout",
     "output_type": "stream",
     "text": [
      "Initial dataset shape:  (506, 13) (506,)\n",
      "Train dataset shape:  (339, 13)\n",
      "Test test shape:  (167, 13)\n",
      "Mean absolute error BEFORE removing outliers: 3.417\n"
     ]
    }
   ],
   "source": [
    "# load the dataset\n",
    "df = read_csv('../DATASETS/housing_1.csv', header=None)\n",
    "# retrieve the array\n",
    "data = df.values\n",
    "# split into input and output elements\n",
    "X, y = data[:, :-1], data[:, -1]\n",
    "\n",
    "# summarize the shape of the dataset\n",
    "print(\"Initial dataset shape: \", X.shape, y.shape)\n",
    "# split into train and test sets\n",
    "X_train, X_test, y_train, y_test = train_test_split(X, y, test_size=0.33, random_state=1) \n",
    "# summarize the shape of the train and test sets\n",
    "print(\"Train dataset shape: \", X_train.shape) \n",
    "print(\"Test test shape: \", X_test.shape)\n",
    "\n",
    "# fit the model\n",
    "model = LinearRegression()\n",
    "model.fit(X_train, y_train)\n",
    "# evaluate the model\n",
    "yhat = model.predict(X_test)\n",
    "# evaluate predictions\n",
    "mae = mean_absolute_error(y_test, yhat) \n",
    "print('Mean absolute error BEFORE removing outliers: %.3f' % mae)"
   ]
  },
  {
   "cell_type": "markdown",
   "metadata": {},
   "source": [
    "<div class=\"alert alert-block alert-info\">\n",
    "<font color=black><br>\n",
    "\n",
    "- Next, we can try removing outliers from the training dataset. \n",
    "- The expectation is that the outliers are causing the linear regression model to learn a bias or skewed understanding of the problem, and that removing these outliers from the training set will allow a more effective model to be learned.\n",
    "\n",
    "<br></font>\n",
    "</div>"
   ]
  },
  {
   "cell_type": "code",
   "execution_count": 12,
   "metadata": {},
   "outputs": [
    {
     "name": "stdout",
     "output_type": "stream",
     "text": [
      "Mean absolute errot AFTER  removing outliers: 3.356\n"
     ]
    }
   ],
   "source": [
    "# identify outliers in the training dataset\n",
    "lof = LocalOutlierFactor()\n",
    "yhat = lof.fit_predict(X_train)\n",
    "# select all rows that are not outliers\n",
    "mask = yhat != -1\n",
    "X_train, y_train = X_train[mask, :], y_train[mask]\n",
    "# summarize the shape of the updated training dataset print(X_train.shape, y_train.shape)\n",
    "# fit the model\n",
    "model = LinearRegression()\n",
    "model.fit(X_train, y_train)\n",
    "# evaluate the model\n",
    "yhat = model.predict(X_test)\n",
    "# evaluate predictions\n",
    "mae = mean_absolute_error(y_test, yhat)\n",
    "print('Mean absolute errot AFTER  removing outliers: %.3f' % mae)"
   ]
  },
  {
   "cell_type": "markdown",
   "metadata": {},
   "source": [
    "# Automatic Outlier Detection method: SKLEARN DBScan"
   ]
  },
  {
   "cell_type": "markdown",
   "metadata": {},
   "source": [
    "<div class=\"alert alert-block alert-info\">\n",
    "<font color=black><br>\n",
    "\n",
    "- **DBScan** is a clustering algorithm that’s used cluster data into groups.\n",
    "- It is also used as a density-based anomaly detection method with either single or multi-dimensional data. \n",
    "- Other clustering algorithms such as k-means and hierarchal clustering can also be used to detect outliers. \n",
    "- **eps** is the maximum distance between two samples for them to be considered as in the same cluster.\n",
    "\n",
    "<br></font>\n",
    "</div>"
   ]
  },
  {
   "attachments": {
    "image.png": {
     "image/png": "[encoded data removed]"
    }
   },
   "cell_type": "markdown",
   "metadata": {},
   "source": [
    "![image.png](attachment:image.png)"
   ]
  },
  {
   "cell_type": "code",
   "execution_count": 20,
   "metadata": {},
   "outputs": [
    {
     "data": {
      "text/plain": [
       "94"
      ]
     },
     "execution_count": 20,
     "metadata": {},
     "output_type": "execute_result"
    }
   ],
   "source": [
    "seed(1)\n",
    "random_data = np.random.randn(50000,2)  * 20 + 20\n",
    "\n",
    "outlier_detection = DBSCAN(min_samples = 2, eps = 3)\n",
    "clusters = outlier_detection.fit_predict(random_data)\n",
    "list(clusters).count(-1)"
   ]
  },
  {
   "cell_type": "markdown",
   "metadata": {},
   "source": [
    "# Boxplot method"
   ]
  },
  {
   "cell_type": "markdown",
   "metadata": {},
   "source": [
    "<div class=\"alert alert-block alert-info\">\n",
    "<font color=black><br>\n",
    "\n",
    "- Box plots are a graphical depiction of numerical data through their quantiles. \n",
    "- It is a very simple but effective way to visualize outliers. \n",
    "- Think about the lower and upper whiskers as the boundaries of the data distribution. \n",
    "- Any data points that show **above or below** the whiskers, can be considered outliers or anomalous\n",
    "\n",
    "<br></font>\n",
    "</div>"
   ]
  },
  {
   "attachments": {
    "image.png": {
     "image/png": "[encoded data removed]"
    }
   },
   "cell_type": "markdown",
   "metadata": {},
   "source": [
    "![image.png](attachment:image.png)"
   ]
  },
  {
   "cell_type": "markdown",
   "metadata": {},
   "source": [
    "<div class=\"alert alert-block alert-info\">\n",
    "<font color=black><br>\n",
    "\n",
    "- **Interquartile Range** (IQR) is important because it is used to define the outliers. \n",
    "- It is the difference between the third quartile and the first quartile (IQR = Q3 -Q1). \n",
    "- Outliers in this case are defined as the observations that are below (Q1 − 1.5x IQR) or boxplot lower whisker or above (Q3 + 1.5x IQR) or boxplot upper whisker.\n",
    "\n",
    "<br></font>\n",
    "</div>"
   ]
  },
  {
   "attachments": {
    "image.png": {
     "image/png": "[encoded data removed]"
    }
   },
   "cell_type": "markdown",
   "metadata": {},
   "source": [
    "![image.png](attachment:image.png)"
   ]
  },
  {
   "cell_type": "code",
   "execution_count": 18,
   "metadata": {},
   "outputs": [
    {
     "data": {
      "text/plain": [
       "<AxesSubplot:>"
      ]
     },
     "execution_count": 18,
     "metadata": {},
     "output_type": "execute_result"
    },
    {
     "data": {
      "image/png": "[encoded data removed]",
      "text/plain": [
       "<Figure size 432x288 with 1 Axes>"
      ]
     },
     "metadata": {
      "needs_background": "light"
     },
     "output_type": "display_data"
    }
   ],
   "source": [
    "# Generate some random numbers\n",
    "random_data = np.random.randn(50000)  * 20 + 20\n",
    "\n",
    "sns.boxplot(data=random_data)"
   ]
  },
  {
   "cell_type": "markdown",
   "metadata": {},
   "source": [
    "# Isolation Forest"
   ]
  },
  {
   "cell_type": "markdown",
   "metadata": {},
   "source": [
    "<div class=\"alert alert-block alert-info\">\n",
    "<font color=black><br>\n",
    "\n",
    "- Isolation Forest is an unsupervised learning algorithm that belongs to the ensemble decision trees family.\n",
    "- It takes advantage of the fact that anomalies are the minority data points and that they have attribute-values that are very different from those of normal instances.\n",
    "- This algorithm **works great** with very high dimensional datasets and it proved to be a very effective way of detecting anomalies. \n",
    "\n",
    "<br></font>\n",
    "</div>"
   ]
  },
  {
   "cell_type": "code",
   "execution_count": null,
   "metadata": {},
   "outputs": [],
   "source": [
    "np.random.seed(1)\n",
    "random_data = np.random.randn(50000,2)  * 20 + 20\n",
    "\n",
    "clf = IsolationForest( behaviour = 'new', max_samples=100, random_state = 1, contamination= 'auto')\n",
    "preds = clf.fit_predict(random_data)\n",
    "preds\n",
    "\n",
    "print(\"No of outliers: \", list(preds).count(-1))"
   ]
  },
  {
   "cell_type": "markdown",
   "metadata": {},
   "source": [
    "# AMAZON Robust Random Cut Forest"
   ]
  },
  {
   "cell_type": "markdown",
   "metadata": {},
   "source": [
    "<div class=\"alert alert-block alert-info\">\n",
    "<font color=black><br>\n",
    "\n",
    "- Random Cut Forest (RCF) algorithm is Amazon’s unsupervised algorithm for detecting anomalies. \n",
    "- It works by associating an anomaly score as well. \n",
    "- Low score values indicate that the data point is considered “normal.” \n",
    "- High values indicate the presence of an anomaly in the data. \n",
    "- The definitions of “low” and “high” depend on the application but common practice suggests that scores beyond three standard deviations from the mean score are considered anomalous. \n",
    "- It works with **very high dimensional data.**\n",
    "\n",
    "<br></font>\n",
    "</div>"
   ]
  },
  {
   "cell_type": "markdown",
   "metadata": {},
   "source": [
    "# References"
   ]
  },
  {
   "cell_type": "markdown",
   "metadata": {},
   "source": [
    "<div class=\"alert alert-block alert-warning\">\n",
    "<font color=black><br>\n",
    "\n",
    "- https://stackoverflow.com/questions/34394641/dbscan-clustering-what-happens-when-border-point-of-one-cluster-is-considered\n",
    "- https://towardsdatascience.com/5-ways-to-detect-outliers-that-every-data-scientist-should-know-python-code-70a54335a623\n",
    "- Data preparation for machine learning, Jason Brownlee\n",
    "- https://raw.githubusercontent.com/jbrownlee/Datasets/master/housing.csv\n",
    "- [Isolation forest paper](https://cs.nju.edu.cn/zhouzh/zhouzh.files/publication/icdm08b.pdf)\n",
    "- [AMAZON Robust Cut Forest](http://proceedings.mlr.press/v48/guha16.pdf)\n",
    "\n",
    "<br></font>\n",
    "</div>"
   ]
  },
  {
   "cell_type": "code",
   "execution_count": null,
   "metadata": {},
   "outputs": [],
   "source": []
  }
 ],
 "metadata": {
  "kernelspec": {
   "display_name": "trainingAI",
   "language": "python",
   "name": "trainingai"
  },
  "language_info": {
   "codemirror_mode": {
    "name": "ipython",
    "version": 3
   },
   "file_extension": ".py",
   "mimetype": "text/x-python",
   "name": "python",
   "nbconvert_exporter": "python",
   "pygments_lexer": "ipython3",
   "version": "3.10.0"
  },
  "toc": {
   "base_numbering": 1,
   "nav_menu": {},
   "number_sections": true,
   "sideBar": true,
   "skip_h1_title": false,
   "title_cell": "Table of Contents",
   "title_sidebar": "Contents",
   "toc_cell": false,
   "toc_position": {},
   "toc_section_display": true,
   "toc_window_display": false
  },
  "varInspector": {
   "cols": {
    "lenName": 16,
    "lenType": 16,
    "lenVar": 40
   },
   "kernels_config": {
    "python": {
     "delete_cmd_postfix": "",
     "delete_cmd_prefix": "del ",
     "library": "var_list.py",
     "varRefreshCmd": "print(var_dic_list())"
    },
    "r": {
     "delete_cmd_postfix": ") ",
     "delete_cmd_prefix": "rm(",
     "library": "var_list.r",
     "varRefreshCmd": "cat(var_dic_list()) "
    }
   },
   "types_to_exclude": [
    "module",
    "function",
    "builtin_function_or_method",
    "instance",
    "_Feature"
   ],
   "window_display": false
  }
 },
 "nbformat": 4,
 "nbformat_minor": 2
}
