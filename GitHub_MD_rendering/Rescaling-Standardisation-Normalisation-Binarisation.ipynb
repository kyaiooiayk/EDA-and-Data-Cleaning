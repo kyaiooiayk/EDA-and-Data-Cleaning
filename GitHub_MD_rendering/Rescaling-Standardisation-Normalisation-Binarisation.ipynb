{
 "cells": [
  {
   "cell_type": "code",
   "execution_count": null,
   "metadata": {},
   "outputs": [],
   "source": [
    "\"\"\" What? Rescaling-Standardisation-Normalisation-Binarisation\n",
    "\n",
    "Many ML algorithms make assumptions about your data. \n",
    "It is often a very good idea to prepare your data in such way to \n",
    "best expose the structure of the problem to the machine learning \n",
    "algorithms that you intend to use.\n",
    "\"\"\""
   ]
  },
  {
   "cell_type": "code",
   "execution_count": 74,
   "metadata": {},
   "outputs": [],
   "source": [
    "# Import python modules\n",
    "from pandas import read_csv\n",
    "from numpy import set_printoptions\n",
    "from IPython.display import Markdown, display\n",
    "from sklearn.preprocessing import MinMaxScaler, StandardScaler, Normalizer, Binarizer"
   ]
  },
  {
   "cell_type": "code",
   "execution_count": null,
   "metadata": {},
   "outputs": [],
   "source": [
    "# Additional cosmetic function\n",
    "def printInBold(string, c = \"blue\"):    \n",
    "    colorstr = \"<span style='color:{}'>{}</span>\".format(c, '**'+ string + '**' )    \n",
    "    display(Markdown(colorstr))"
   ]
  },
  {
   "cell_type": "code",
   "execution_count": 46,
   "metadata": {},
   "outputs": [],
   "source": [
    "# Reading-in the data\n",
    "filename = './datasetCollections/pima-indians-diabetes.csv'\n",
    "names = ['preg', 'plas', 'pres', 'skin', 'test', 'mass', 'pedi', 'age', 'class'] \n",
    "dataframe = read_csv(filename, names=names)\n",
    "array = dataframe.values\n",
    "# separate array into input and output components\n",
    "X = array[:,0:8]\n",
    "Y = array[:,8]"
   ]
  },
  {
   "cell_type": "code",
   "execution_count": 66,
   "metadata": {},
   "outputs": [
    {
     "data": {
      "text/markdown": [
       "<span style='color:blue'>**Original input data:**</span>"
      ],
      "text/plain": [
       "<IPython.core.display.Markdown object>"
      ]
     },
     "metadata": {},
     "output_type": "display_data"
    },
    {
     "name": "stdout",
     "output_type": "stream",
     "text": [
      "[[  6.    148.     72.    ...  33.6     0.627  50.   ]\n",
      " [  1.     85.     66.    ...  26.6     0.351  31.   ]\n",
      " [  8.    183.     64.    ...  23.3     0.672  32.   ]\n",
      " ...\n",
      " [  5.    121.     72.    ...  26.2     0.245  30.   ]\n",
      " [  1.    126.     60.    ...  30.1     0.349  47.   ]\n",
      " [  1.     93.     70.    ...  30.4     0.315  23.   ]]\n"
     ]
    },
    {
     "data": {
      "text/markdown": [
       "<span style='color:blue'>**RESCALED input data:**</span>"
      ],
      "text/plain": [
       "<IPython.core.display.Markdown object>"
      ]
     },
     "metadata": {},
     "output_type": "display_data"
    },
    {
     "name": "stdout",
     "output_type": "stream",
     "text": [
      "[[0.353 0.744 0.59  ... 0.501 0.234 0.483]\n",
      " [0.059 0.427 0.541 ... 0.396 0.117 0.167]\n",
      " [0.471 0.92  0.525 ... 0.347 0.254 0.183]\n",
      " ...\n",
      " [0.294 0.608 0.59  ... 0.39  0.071 0.15 ]\n",
      " [0.059 0.633 0.492 ... 0.449 0.116 0.433]\n",
      " [0.059 0.467 0.574 ... 0.453 0.101 0.033]]\n"
     ]
    }
   ],
   "source": [
    "# [1] RESCALING\n",
    "\n",
    "\"\"\"\n",
    "When your data is comprised of attributes with varying scales\n",
    "you may want to rescale your inputs. \n",
    "\"\"\"\n",
    "scaler = MinMaxScaler(feature_range=(0, 1))\n",
    "rescaledX = scaler.fit_transform(X)\n",
    "# summarize transformed data\n",
    "set_printoptions(precision = 3)\n",
    "\n",
    "# Comparison\n",
    "printInBold(\"Original input data:\")\n",
    "print(X)\n",
    "printInBold(\"RESCALED input data:\")\n",
    "print(rescaledX)"
   ]
  },
  {
   "cell_type": "code",
   "execution_count": 67,
   "metadata": {},
   "outputs": [
    {
     "data": {
      "text/markdown": [
       "<span style='color:blue'>**Original input data:**</span>"
      ],
      "text/plain": [
       "<IPython.core.display.Markdown object>"
      ]
     },
     "metadata": {},
     "output_type": "display_data"
    },
    {
     "name": "stdout",
     "output_type": "stream",
     "text": [
      "[[  6.    148.     72.    ...  33.6     0.627  50.   ]\n",
      " [  1.     85.     66.    ...  26.6     0.351  31.   ]\n",
      " [  8.    183.     64.    ...  23.3     0.672  32.   ]\n",
      " ...\n",
      " [  5.    121.     72.    ...  26.2     0.245  30.   ]\n",
      " [  1.    126.     60.    ...  30.1     0.349  47.   ]\n",
      " [  1.     93.     70.    ...  30.4     0.315  23.   ]]\n"
     ]
    },
    {
     "data": {
      "text/markdown": [
       "<span style='color:blue'>**STANDARDISED input data:**</span>"
      ],
      "text/plain": [
       "<IPython.core.display.Markdown object>"
      ]
     },
     "metadata": {},
     "output_type": "display_data"
    },
    {
     "name": "stdout",
     "output_type": "stream",
     "text": [
      "[[ 0.64   0.848  0.15  ...  0.204  0.468  1.426]\n",
      " [-0.845 -1.123 -0.161 ... -0.684 -0.365 -0.191]\n",
      " [ 1.234  1.944 -0.264 ... -1.103  0.604 -0.106]\n",
      " ...\n",
      " [ 0.343  0.003  0.15  ... -0.735 -0.685 -0.276]\n",
      " [-0.845  0.16  -0.471 ... -0.24  -0.371  1.171]\n",
      " [-0.845 -0.873  0.046 ... -0.202 -0.474 -0.871]]\n"
     ]
    }
   ],
   "source": [
    "# [2] STANDARDISATION\n",
    "\n",
    "\"\"\"\n",
    "Standardization is a useful technique to transform attributes with a Gaussian distribution \n",
    "and differing means and standard deviations to a standard Gaussian distribution \n",
    "with a mean of 0 and a standard deviation of 1. \n",
    "\"\"\"\n",
    "\n",
    "scaler = StandardScaler().fit(X)\n",
    "rescaledX = scaler.transform(X)\n",
    "# summarize transformed data\n",
    "set_printoptions(precision=3)\n",
    "\n",
    "# Comparison\n",
    "printInBold(\"Original input data:\")\n",
    "print(X)\n",
    "printInBold(\"STANDARDISED input data:\")\n",
    "print(rescaledX)"
   ]
  },
  {
   "cell_type": "code",
   "execution_count": 68,
   "metadata": {},
   "outputs": [
    {
     "data": {
      "text/markdown": [
       "<span style='color:blue'>**Original input data:**</span>"
      ],
      "text/plain": [
       "<IPython.core.display.Markdown object>"
      ]
     },
     "metadata": {},
     "output_type": "display_data"
    },
    {
     "name": "stdout",
     "output_type": "stream",
     "text": [
      "[[  6.    148.     72.    ...  33.6     0.627  50.   ]\n",
      " [  1.     85.     66.    ...  26.6     0.351  31.   ]\n",
      " [  8.    183.     64.    ...  23.3     0.672  32.   ]\n",
      " ...\n",
      " [  5.    121.     72.    ...  26.2     0.245  30.   ]\n",
      " [  1.    126.     60.    ...  30.1     0.349  47.   ]\n",
      " [  1.     93.     70.    ...  30.4     0.315  23.   ]]\n"
     ]
    },
    {
     "data": {
      "text/markdown": [
       "<span style='color:blue'>**NORMALISED input data:**</span>"
      ],
      "text/plain": [
       "<IPython.core.display.Markdown object>"
      ]
     },
     "metadata": {},
     "output_type": "display_data"
    },
    {
     "name": "stdout",
     "output_type": "stream",
     "text": [
      "[[0.034 0.828 0.403 ... 0.188 0.004 0.28 ]\n",
      " [0.008 0.716 0.556 ... 0.224 0.003 0.261]\n",
      " [0.04  0.924 0.323 ... 0.118 0.003 0.162]\n",
      " ...\n",
      " [0.027 0.651 0.388 ... 0.141 0.001 0.161]\n",
      " [0.007 0.838 0.399 ... 0.2   0.002 0.313]\n",
      " [0.008 0.736 0.554 ... 0.241 0.002 0.182]]\n"
     ]
    }
   ],
   "source": [
    "# [3] NORMALISATION\n",
    "\n",
    "\"\"\"\n",
    "Normalizing refers to rescaling each observation (row) to have \n",
    "a length of 1 (called a unit norm or a vector with the length \n",
    "of 1 in linear algebra). This pre-processing method can be useful \n",
    "for sparse datasets (lots of zeros) with attributes of varying scales\n",
    "\"\"\"\n",
    "\n",
    "scaler = Normalizer().fit(X)\n",
    "normalizedX = scaler.transform(X)\n",
    "# summarize transformed data\n",
    "set_printoptions(precision=3)\n",
    "\n",
    "# Comparison\n",
    "printInBold(\"Original input data:\")\n",
    "print(X)\n",
    "printInBold(\"NORMALISED input data:\")\n",
    "print(normalizedX)"
   ]
  },
  {
   "cell_type": "code",
   "execution_count": 72,
   "metadata": {},
   "outputs": [
    {
     "name": "stdout",
     "output_type": "stream",
     "text": [
      "[[0. 0. 0. ... 0. 0. 0.]\n",
      " [0. 0. 0. ... 0. 0. 0.]\n",
      " [0. 0. 0. ... 0. 0. 0.]\n",
      " ...\n",
      " [0. 0. 0. ... 0. 0. 0.]\n",
      " [0. 0. 0. ... 0. 0. 0.]\n",
      " [0. 0. 0. ... 0. 0. 0.]]\n"
     ]
    }
   ],
   "source": [
    "# [4] DIFFERENCE between standardisation and normalisation\n",
    "\n",
    "rescaledX = # ?scaler.transform(X)\n",
    "normalizedX = #?scaler.transform(X)\n",
    "\n",
    "\"\"\"\n",
    "As you can see there is no difference. Are they always the same?\n",
    "\"\"\"\n",
    "\n",
    "print(rescaledX - normalizedX)"
   ]
  },
  {
   "cell_type": "code",
   "execution_count": 76,
   "metadata": {},
   "outputs": [
    {
     "data": {
      "text/markdown": [
       "<span style='color:blue'>**Original input data:**</span>"
      ],
      "text/plain": [
       "<IPython.core.display.Markdown object>"
      ]
     },
     "metadata": {},
     "output_type": "display_data"
    },
    {
     "name": "stdout",
     "output_type": "stream",
     "text": [
      "[[  6.    148.     72.    ...  33.6     0.627  50.   ]\n",
      " [  1.     85.     66.    ...  26.6     0.351  31.   ]\n",
      " [  8.    183.     64.    ...  23.3     0.672  32.   ]\n",
      " ...\n",
      " [  5.    121.     72.    ...  26.2     0.245  30.   ]\n",
      " [  1.    126.     60.    ...  30.1     0.349  47.   ]\n",
      " [  1.     93.     70.    ...  30.4     0.315  23.   ]]\n"
     ]
    },
    {
     "data": {
      "text/markdown": [
       "<span style='color:blue'>**NORMALISED input data:**</span>"
      ],
      "text/plain": [
       "<IPython.core.display.Markdown object>"
      ]
     },
     "metadata": {},
     "output_type": "display_data"
    },
    {
     "name": "stdout",
     "output_type": "stream",
     "text": [
      "[[1. 1. 1. ... 1. 1. 1.]\n",
      " [1. 1. 1. ... 1. 1. 1.]\n",
      " [1. 1. 1. ... 1. 1. 1.]\n",
      " ...\n",
      " [1. 1. 1. ... 1. 1. 1.]\n",
      " [1. 1. 1. ... 1. 1. 1.]\n",
      " [1. 1. 1. ... 1. 1. 1.]]\n"
     ]
    }
   ],
   "source": [
    "# [5] BINARISATION\n",
    "\n",
    "\"\"\"\n",
    "You can transform your data using a binary threshold. \n",
    "All values above the threshold are marked 1 and all equal \n",
    "to or below are marked as 0. This is called binarizing your \n",
    "data or thresholding your data. It can be useful when you have\n",
    "probabilities that you want to make crisp values.\n",
    "\"\"\"\n",
    "\n",
    "binarizer = Binarizer(threshold = 0.0).fit(X)\n",
    "binaryX = binarizer.transform(X)\n",
    "\n",
    "# Comparison\n",
    "printInBold(\"Original input data:\")\n",
    "print(X)\n",
    "printInBold(\"NORMALISED input data:\")\n",
    "print(binaryX)"
   ]
  },
  {
   "cell_type": "code",
   "execution_count": null,
   "metadata": {},
   "outputs": [],
   "source": []
  }
 ],
 "metadata": {
  "hide_input": false,
  "kernelspec": {
   "display_name": "trainingAI",
   "language": "python",
   "name": "trainingai"
  },
  "language_info": {
   "codemirror_mode": {
    "name": "ipython",
    "version": 3
   },
   "file_extension": ".py",
   "mimetype": "text/x-python",
   "name": "python",
   "nbconvert_exporter": "python",
   "pygments_lexer": "ipython3",
   "version": "3.9.7"
  },
  "toc": {
   "base_numbering": 1,
   "nav_menu": {},
   "number_sections": true,
   "sideBar": true,
   "skip_h1_title": false,
   "title_cell": "Table of Contents",
   "title_sidebar": "Contents",
   "toc_cell": false,
   "toc_position": {},
   "toc_section_display": true,
   "toc_window_display": false
  },
  "varInspector": {
   "cols": {
    "lenName": 16,
    "lenType": 16,
    "lenVar": 40
   },
   "kernels_config": {
    "python": {
     "delete_cmd_postfix": "",
     "delete_cmd_prefix": "del ",
     "library": "var_list.py",
     "varRefreshCmd": "print(var_dic_list())"
    },
    "r": {
     "delete_cmd_postfix": ") ",
     "delete_cmd_prefix": "rm(",
     "library": "var_list.r",
     "varRefreshCmd": "cat(var_dic_list()) "
    }
   },
   "types_to_exclude": [
    "module",
    "function",
    "builtin_function_or_method",
    "instance",
    "_Feature"
   ],
   "window_display": false
  }
 },
 "nbformat": 4,
 "nbformat_minor": 2
}
