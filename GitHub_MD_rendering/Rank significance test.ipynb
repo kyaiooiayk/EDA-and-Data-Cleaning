{
 "cells": [
  {
   "cell_type": "code",
   "execution_count": 1,
   "metadata": {},
   "outputs": [
    {
     "data": {
      "text/plain": [
       "'\\nWhat? Rank Significance Tests\\n\\nIf the data does not have the familiar Gaussian distribution, we must \\nresort to nonparametric version of the significance tests. These tests\\noperate in a similar manner, but are distribution free, requiring that\\nreal valued data be first transformed into rank data before the test \\ncan be performed. \\n\\n[1] Mann-Whitney U Test\\n'"
      ]
     },
     "execution_count": 1,
     "metadata": {},
     "output_type": "execute_result"
    }
   ],
   "source": [
    "\"\"\"\n",
    "What? Rank Significance Tests\n",
    "\n",
    "If the data does not have the familiar Gaussian distribution, we must \n",
    "resort to nonparametric version of the significance tests. These tests\n",
    "operate in a similar manner, but are distribution free, requiring that\n",
    "real valued data be first transformed into rank data before the test \n",
    "can be performed. \n",
    "\n",
    "[1] Mann-Whitney U Test\n",
    "\"\"\""
   ]
  },
  {
   "cell_type": "code",
   "execution_count": 2,
   "metadata": {},
   "outputs": [],
   "source": [
    "# Import python modules\n",
    "from numpy.random import seed\n",
    "from numpy.random import rand\n",
    "from IPython.display import Markdown, display\n",
    "from scipy.stats import mannwhitneyu, wilcoxon, kruskal, friedmanchisquare"
   ]
  },
  {
   "cell_type": "code",
   "execution_count": 4,
   "metadata": {},
   "outputs": [
    {
     "data": {
      "text/markdown": [
       "<span style='color:blue'>**Test Dataset**</span>"
      ],
      "text/plain": [
       "<IPython.core.display.Markdown object>"
      ]
     },
     "metadata": {},
     "output_type": "display_data"
    },
    {
     "name": "stdout",
     "output_type": "stream",
     "text": [
      "data1: min=50.001 max=59.889\n",
      "data2: min=51.126 max=60.973\n"
     ]
    }
   ],
   "source": [
    "print(\"Test Dataset\")\n",
    "\n",
    "\"\"\"\n",
    "Generate two samples of 100 uniform random numbers between 50-59 and 51-60 respectively\n",
    "\"\"\"\n",
    "\n",
    "# Seed the pseudo-random numbers generator\n",
    "seed(1)\n",
    "# generate two sets of univariate observations\n",
    "data1 = 50 + (rand(100) * 10)\n",
    "data2 = 51 + (rand(100) * 10)\n",
    "# summarize\n",
    "print('data1: min=%.3f max=%.3f' % (min(data1), max(data1))) \n",
    "print('data2: min=%.3f max=%.3f' % (min(data2), max(data2)))"
   ]
  },
  {
   "cell_type": "code",
   "execution_count": 10,
   "metadata": {},
   "outputs": [
    {
     "data": {
      "image/png": "[encoded data removed]",
      "text/plain": [
       "<Figure size 432x288 with 1 Axes>"
      ]
     },
     "metadata": {
      "needs_background": "light"
     },
     "output_type": "display_data"
    }
   ],
   "source": [
    "from matplotlib import pyplot\n",
    "pyplot.scatter(data1, data2)\n",
    "pyplot.show()"
   ]
  },
  {
   "cell_type": "code",
   "execution_count": 5,
   "metadata": {},
   "outputs": [
    {
     "data": {
      "text/markdown": [
       "<span style='color:blue'>**Mann-Whitney U Test**</span>"
      ],
      "text/plain": [
       "<IPython.core.display.Markdown object>"
      ]
     },
     "metadata": {},
     "output_type": "display_data"
    },
    {
     "name": "stdout",
     "output_type": "stream",
     "text": [
      "Statistics=4077.000, p=0.024\n",
      "Different distribution (reject H0)\n"
     ]
    }
   ],
   "source": [
    "print(\"Mann-Whitney U Test\")\n",
    "\n",
    "\"\"\"\n",
    "The Mann-Whitney U test is a nonparametric statistical significance test for determining \n",
    "whether two independent samples were drawn from a population with the same distribution.\n",
    "\n",
    "- Fail to Reject H0: Sample distributions are equal. \n",
    "- Reject H0: Sample distributions are not equal\n",
    "\"\"\"\n",
    "\n",
    "# compare samples\n",
    "stat, p = mannwhitneyu(data1, data2) \n",
    "print('Statistics=%.3f, p=%.3f' % (stat, p)) \n",
    "# interpret\n",
    "alpha = 0.05\n",
    "if p > alpha:\n",
    "    print('Same distribution (fail to reject H0)') \n",
    "else:\n",
    "    print('Different distribution (reject H0)')\n"
   ]
  },
  {
   "cell_type": "code",
   "execution_count": 6,
   "metadata": {},
   "outputs": [
    {
     "data": {
      "text/markdown": [
       "<span style='color:blue'>**Wilcoxon Signed-Rank Test**</span>"
      ],
      "text/plain": [
       "<IPython.core.display.Markdown object>"
      ]
     },
     "metadata": {},
     "output_type": "display_data"
    },
    {
     "name": "stdout",
     "output_type": "stream",
     "text": [
      "Statistics=1937.000, p=0.043\n",
      "Different distribution (reject H0)\n"
     ]
    }
   ],
   "source": [
    "print(\"Wilcoxon Signed-Rank Test\")\n",
    "\n",
    "\"\"\"\n",
    "In some cases, the data samples may be paired. There are many reasons why this may be \n",
    "the case, for example, the samples are related or matched in some way or represent two\n",
    "measurements of the same technique.\n",
    "The samples are not independent, therefore the Mann-Whitney U test cannot be used. \n",
    "Instead, the Wilcoxon signed-rank test is used, also called the Wilcoxon t-test\n",
    "\n",
    "- Fail to Reject H0: Sample distributions are equal.\n",
    "- Reject H0: Sample distributions are not equal\n",
    "\"\"\"\n",
    "\n",
    "# seed the random number generator\n",
    "seed(1)\n",
    "# generate two independent samples\n",
    "data1 = 50 + (rand(100) * 10)\n",
    "data2 = 51 + (rand(100) * 10)\n",
    "# compare samples\n",
    "stat, p = wilcoxon(data1, data2) \n",
    "print('Statistics=%.3f, p=%.3f' % (stat, p)) \n",
    "# interpret\n",
    "alpha = 0.05\n",
    "if p > alpha:\n",
    "    print('Same distribution (fail to reject H0)') \n",
    "else:\n",
    "    print('Different distribution (reject H0)')"
   ]
  },
  {
   "cell_type": "code",
   "execution_count": 7,
   "metadata": {},
   "outputs": [
    {
     "data": {
      "text/markdown": [
       "<span style='color:blue'>**Kruskal-Wallis H Test**</span>"
      ],
      "text/plain": [
       "<IPython.core.display.Markdown object>"
      ]
     },
     "metadata": {},
     "output_type": "display_data"
    },
    {
     "name": "stdout",
     "output_type": "stream",
     "text": [
      "Statistics=34.747, p=0.000\n",
      "Different distributions (reject H0)\n"
     ]
    }
   ],
   "source": [
    "myPrint(\"Kruskal-Wallis H Test\")\n",
    "\n",
    "\"\"\"\n",
    "When working with significance tests, such as Mann-Whitney U and the Wilcoxon signed-rank\n",
    "tests, comparisons between data samples must be performed pairwise. This can be inefficient \n",
    "if you have many data samples and you are only interested in whether two or more samples \n",
    "have a different distribution. The Kruskal-Wallis test is a nonparametric version of the \n",
    "one-way analysis of variance test or ANOVA for short.\n",
    "\n",
    "- Fail to Reject H0: All sample distributions are equal.\n",
    "- Reject H0: One or more sample distributions are not equal.\n",
    "\"\"\"\n",
    "\n",
    "# seed the random number generator\n",
    "seed(1)\n",
    "# generate three independent samples\n",
    "data1 = 50 + (rand(100) * 10)\n",
    "data2 = 51 + (rand(100) * 10)\n",
    "data3 = 52 + (rand(100) * 10)\n",
    "# compare samples\n",
    "stat, p = kruskal(data1, data2, data3) \n",
    "print('Statistics=%.3f, p=%.3f' % (stat, p)) \n",
    "# interpret\n",
    "alpha = 0.05\n",
    "if p > alpha:\n",
    "    print('Same distributions (fail to reject H0)') \n",
    "else:\n",
    "    print('Different distributions (reject H0)')"
   ]
  },
  {
   "cell_type": "code",
   "execution_count": 8,
   "metadata": {},
   "outputs": [
    {
     "data": {
      "text/markdown": [
       "<span style='color:blue'>**Friedman Test**</span>"
      ],
      "text/plain": [
       "<IPython.core.display.Markdown object>"
      ]
     },
     "metadata": {},
     "output_type": "display_data"
    },
    {
     "name": "stdout",
     "output_type": "stream",
     "text": [
      "Statistics=36.240, p=0.000\n",
      "Different distributions (reject H0)\n"
     ]
    }
   ],
   "source": [
    "print(\"Friedman Test\")\n",
    "\n",
    "\"\"\"\n",
    "As in the previous example, we may have more than two different samples and \n",
    "an interest in whether all samples have the same distribution or not. \n",
    "If the samples are paired in some way, such as repeated measures, then the\n",
    "Kruskal-Wallis H test would not be appropriate. Instead, the Friedman test\n",
    "can be used.\n",
    "\n",
    "- Fail to Reject H0: Paired sample distributions are equal. \n",
    "- Reject H0: Paired sample distributions are not equal.\n",
    "\"\"\"\n",
    "\n",
    "# compare samples\n",
    "stat, p = friedmanchisquare(data1, data2, data3) \n",
    "print('Statistics=%.3f, p=%.3f' % (stat, p))\n",
    "# interpret\n",
    "alpha = 0.05\n",
    "if p > alpha:\n",
    "    print('Same distributions (fail to reject H0)') \n",
    "else:\n",
    "    print('Different distributions (reject H0)')"
   ]
  },
  {
   "cell_type": "markdown",
   "metadata": {},
   "source": [
    "# References\n",
    "<hr style = \"border:2px solid black\" ></hr>"
   ]
  },
  {
   "cell_type": "markdown",
   "metadata": {},
   "source": [
    "\n",
    "- [Rank test](https://en.wikipedia.org/wiki/Rank_test)\n",
    "- [Ranking in statistics](https://en.wikipedia.org/wiki/Ranking)"
   ]
  },
  {
   "cell_type": "code",
   "execution_count": null,
   "metadata": {},
   "outputs": [],
   "source": []
  }
 ],
 "metadata": {
  "hide_input": false,
  "kernelspec": {
   "display_name": "trainingAI",
   "language": "python",
   "name": "trainingai"
  },
  "language_info": {
   "codemirror_mode": {
    "name": "ipython",
    "version": 3
   },
   "file_extension": ".py",
   "mimetype": "text/x-python",
   "name": "python",
   "nbconvert_exporter": "python",
   "pygments_lexer": "ipython3",
   "version": "3.9.7"
  },
  "toc": {
   "base_numbering": 1,
   "nav_menu": {},
   "number_sections": true,
   "sideBar": true,
   "skip_h1_title": false,
   "title_cell": "Table of Contents",
   "title_sidebar": "Contents",
   "toc_cell": false,
   "toc_position": {},
   "toc_section_display": true,
   "toc_window_display": false
  },
  "varInspector": {
   "cols": {
    "lenName": 16,
    "lenType": 16,
    "lenVar": 40
   },
   "kernels_config": {
    "python": {
     "delete_cmd_postfix": "",
     "delete_cmd_prefix": "del ",
     "library": "var_list.py",
     "varRefreshCmd": "print(var_dic_list())"
    },
    "r": {
     "delete_cmd_postfix": ") ",
     "delete_cmd_prefix": "rm(",
     "library": "var_list.r",
     "varRefreshCmd": "cat(var_dic_list()) "
    }
   },
   "types_to_exclude": [
    "module",
    "function",
    "builtin_function_or_method",
    "instance",
    "_Feature"
   ],
   "window_display": false
  }
 },
 "nbformat": 4,
 "nbformat_minor": 2
}
