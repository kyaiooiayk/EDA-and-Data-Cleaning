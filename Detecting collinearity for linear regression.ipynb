{
 "cells": [
  {
   "cell_type": "markdown",
   "metadata": {},
   "source": [
    "# Introduction"
   ]
  },
  {
   "cell_type": "markdown",
   "metadata": {},
   "source": [
    "<div class=\"alert alert-block alert-warning\">\n",
    "<font color=black><br>\n",
    "\n",
    "**What?** Detecting collinearity for linear regression\n",
    "\n",
    "<br></font>\n",
    "</div>"
   ]
  },
  {
   "cell_type": "markdown",
   "metadata": {},
   "source": [
    "# Import modules"
   ]
  },
  {
   "cell_type": "code",
   "execution_count": 1,
   "metadata": {},
   "outputs": [],
   "source": [
    "import os\n",
    "import warnings\n",
    "import numpy as np\n",
    "import pandas as pd\n",
    "import matplotlib.pyplot as plt\n",
    "from scipy.stats import chi2_contingency\n",
    "from sklearn.linear_model import LinearRegression\n",
    "from sklearn.metrics import r2_score, mean_squared_error"
   ]
  },
  {
   "cell_type": "markdown",
   "metadata": {},
   "source": [
    "# Multicollearity"
   ]
  },
  {
   "cell_type": "markdown",
   "metadata": {},
   "source": [
    "<div class=\"alert alert-block alert-info\">\n",
    "<font color=black><br>\n",
    "\n",
    "- **Why is this a problem?** Correlated features induce instabilities in the coefficients of linear models and their effects cannot be well teased apart. \n",
    "- **Numerical features** use the Variance Inflation Factor (VIF). It’s called the variance inflation factor because it estimates how much the variance of a coefficient is \"inflated\" because of linear dependence with other predictors. Thus, a VIF of 1.8 tells us that the variance (the square of the standard error) of a particular coefficient is 80% larger than it would be if that predictor was completely uncorrelated with all the other predictors.\n",
    "- **Categorical features** use the: Cramer’s V is a statistic measuring the strength of association or dependency between two (nominal) categorical variables.\n",
    "\n",
    "<br></font>\n",
    "</div>"
   ]
  },
  {
   "cell_type": "code",
   "execution_count": 3,
   "metadata": {},
   "outputs": [
    {
     "name": "stdout",
     "output_type": "stream",
     "text": [
      "Linear model: 0.984 * X1 + 1.995 * X2 + -0.041 * X3\n"
     ]
    }
   ],
   "source": [
    "# sklearn's LinearRegression may give harmless errors\n",
    "# https://github.com/scipy/scipy/issues/5998\n",
    "warnings.filterwarnings(\n",
    "    action = 'ignore', module = 'scipy', message = '^internal gelsd')\n",
    " \n",
    "\n",
    "def pretty_print_linear(estimator, names = None, sort = False):\n",
    "    \"\"\"A helper method for pretty-printing linear models' coefficients\"\"\"\n",
    "    coef = estimator.coef_\n",
    "    if names is None:\n",
    "        names = ['X%s' % x for x in range(1, len(coef) + 1)]\n",
    "\n",
    "    info = zip(coef, names)\n",
    "    if sort:\n",
    "        info = sorted(info, key = lambda x: -np.abs(x[0]))\n",
    "    \n",
    "    output = ['{} * {}'.format(round(coef, 3), name) for coef, name in info]\n",
    "    output = ' + '.join(output)\n",
    "    return output\n",
    " \n",
    "\n",
    "# A dataset with 3 features\n",
    "size = 5000\n",
    "np.random.seed(0)\n",
    "X = np.random.normal(0, 1, (size, 3))\n",
    "\n",
    "# y = X0 + 2 * X1 + noise\n",
    "y = X[:, 0] + 2 * X[:, 1] + np.random.normal(0, 2, size)\n",
    "linear = LinearRegression()\n",
    "linear.fit(X, y)\n",
    "print('Linear model:', pretty_print_linear(linear))"
   ]
  },
  {
   "cell_type": "markdown",
   "metadata": {},
   "source": [
    "<div class=\"alert alert-block alert-info\">\n",
    "<font color=black><br>\n",
    "\n",
    "- As we can see in this example, the model indeed recovers the underlying structure of the data very well, despite quite significant noise in the data. \n",
    "- Given that the the predictors are on the same scale, we can compare the coefficients directly to determine variable importance, we can see here that when using linear regression, X2 is the most important predictor for this given dataset. \n",
    "- To be explicit, standardized coefficients represent the mean change in the response given one standard deviation change in the predictor. \n",
    "- We can comute the **R**2** score to see how well out model worked. It takes a value ranging from 0 to 1 and is usually interpreted as summarizing the percent of variation in the response that the regression model is capable of explaining. So a R-squared of 0.65 means the model explains about 65% of the variation in our dependent variable. \n",
    "- **ATTENTION** R-squared can be arbitrarily close to 1 when the model is totally wrong.\n",
    "\n",
    "<br></font>\n",
    "</div>"
   ]
  },
  {
   "cell_type": "code",
   "execution_count": 6,
   "metadata": {},
   "outputs": [
    {
     "name": "stdout",
     "output_type": "stream",
     "text": [
      "rsquared: 0.5516031266827077\n",
      "rsquared: 0.5516031266827077\n",
      "rsquared: 0.5516031266827077\n"
     ]
    }
   ],
   "source": [
    "def rsquared_score(y_true, y_pred):\n",
    "    \"\"\"rsquared evaluation metric\"\"\"\n",
    "    rss = np.sum((y_true - y_pred) ** 2)\n",
    "    tss = np.sum((y_true - np.mean(y_true)) ** 2)\n",
    "    rsquared = 1 - rss / tss\n",
    "    return rsquared\n",
    "\n",
    "\n",
    "y_pred = linear.predict(X)\n",
    "print('rsquared:', rsquared_score(y, y_pred))\n",
    "\n",
    "# Using scikit-learn's built-in r2_score function\n",
    "print('rsquared:', r2_score(y, y_pred))\n",
    "\n",
    "# linear.score method returns R2 by default\n",
    "print('rsquared:', linear.score(X, y))"
   ]
  },
  {
   "cell_type": "code",
   "execution_count": 7,
   "metadata": {},
   "outputs": [
    {
     "name": "stdout",
     "output_type": "stream",
     "text": [
      "rsquared: 0.8995456300458051\n"
     ]
    },
    {
     "data": {
      "image/png": "[encoded data removed]",
      "text/plain": [
       "<Figure size 576x432 with 1 Axes>"
      ]
     },
     "metadata": {
      "needs_background": "light"
     },
     "output_type": "display_data"
    }
   ],
   "source": [
    "# change default style figure and font size\n",
    "plt.rcParams['figure.figsize'] = 8, 6\n",
    "plt.rcParams['font.size'] = 12\n",
    "\n",
    "# generate some exponential data and fit a linear regression to it\n",
    "rstate = np.random.RandomState(1)\n",
    "x = rstate.exponential(scale = 1 / 0.005, size = 50)\n",
    "y = (x - 1) ** 2 * rstate.uniform(low = 0.8, high = 1.2, size = 50)\n",
    "\n",
    "# scikit-learn model expects a 2d ndarray\n",
    "# even if the data only contains 1 feature\n",
    "X = x.reshape(-1, 1)\n",
    "linear = LinearRegression()\n",
    "linear.fit(X, y)\n",
    "print('rsquared:', linear.score(X, y))\n",
    "\n",
    "y_pred = linear.predict(X)\n",
    "plt.plot(x, y_pred, 'r')\n",
    "plt.scatter(x, y)\n",
    "plt.show()"
   ]
  },
  {
   "cell_type": "markdown",
   "metadata": {},
   "source": [
    "<div class=\"alert alert-block alert-info\">\n",
    "<font color=black><br>\n",
    "\n",
    "- When checking the R-squared value for this model, it’s very high at about 0.90, but the model is completely wrong as this data follows a nonlinear distribution. Using R-squared to justify the \"goodness\" of our model in this instance would be a mistake. Hopefully one would plot the data first and recognize that a simple linear regression in this case would be inappropriate.\n",
    "- We’re better off using Mean Square Error (MSE) or other error-based metric as a measure of prediction error. As R-squared can be anywhere between 0 and 1 just by changing the range of X.\n",
    "- Let’s demonstrate this statement by first generating data that meets all simple linear regression assumptions and then regressing y on x to assess both R-squared and MSE.\n",
    "\n",
    "<br></font>\n",
    "</div>"
   ]
  },
  {
   "cell_type": "code",
   "execution_count": 8,
   "metadata": {},
   "outputs": [
    {
     "name": "stdout",
     "output_type": "stream",
     "text": [
      "rsquared: 0.9399557047855442\n",
      "mse: 0.6525560722110444\n"
     ]
    },
    {
     "data": {
      "image/png": "[encoded data removed]",
      "text/plain": [
       "<Figure size 576x432 with 1 Axes>"
      ]
     },
     "metadata": {
      "needs_background": "light"
     },
     "output_type": "display_data"
    }
   ],
   "source": [
    "x = np.linspace(1, 10, 100)\n",
    "y = 2 + 1.2 * x + rstate.normal(loc = 0, scale = 0.9, size = 100)\n",
    "X = x.reshape(-1, 1)\n",
    "linear = LinearRegression()\n",
    "linear.fit(X, y)\n",
    "\n",
    "y_pred = linear.predict(X)\n",
    "print('rsquared:', r2_score(y, y_pred))\n",
    "print('mse:', mean_squared_error(y, y_pred))\n",
    "\n",
    "plt.plot(x, y_pred, 'r')\n",
    "plt.scatter(x, y)\n",
    "plt.show()"
   ]
  },
  {
   "cell_type": "markdown",
   "metadata": {},
   "source": [
    "<div class=\"alert alert-block alert-info\">\n",
    "<font color=black><br>\n",
    "\n",
    "- We repeat the above code, but this time with a different range of x. Leaving everything else the same.\n",
    "\n",
    "<br></font>\n",
    "</div>"
   ]
  },
  {
   "cell_type": "code",
   "execution_count": 9,
   "metadata": {},
   "outputs": [
    {
     "name": "stdout",
     "output_type": "stream",
     "text": [
      "rsquared: 0.11363641998838503\n",
      "mse: 0.8531854804189234\n"
     ]
    },
    {
     "data": {
      "image/png": "[encoded data removed]",
      "text/plain": [
       "<Figure size 576x432 with 1 Axes>"
      ]
     },
     "metadata": {
      "needs_background": "light"
     },
     "output_type": "display_data"
    }
   ],
   "source": [
    "# smaller range for x\n",
    "x = np.linspace(1, 2, 100)\n",
    "y = 2 + 1.2 * x + rstate.normal(loc = 0, scale = 0.9, size = 100)\n",
    "X = x.reshape(-1, 1)\n",
    "linear = LinearRegression()\n",
    "linear.fit(X, y)\n",
    "\n",
    "y_pred = linear.predict(X)\n",
    "print('rsquared:', r2_score(y, y_pred))\n",
    "print('mse:', mean_squared_error(y, y_pred))\n",
    "\n",
    "plt.plot(x, y_pred, 'r')\n",
    "plt.scatter(x, y)\n",
    "plt.show()"
   ]
  },
  {
   "cell_type": "markdown",
   "metadata": {},
   "source": [
    "<div class=\"alert alert-block alert-info\">\n",
    "<font color=black><br>\n",
    "\n",
    "- R-squared falls from around 0.9 to around 0.2, but the MSE remains fairly the same. \n",
    "- In other words the predictive ability is the same for both data sets, but the R-squared would lead you to believe the first example somehow had a model with more predictive power.  \n",
    "\n",
    "<br></font>\n",
    "</div>"
   ]
  },
  {
   "cell_type": "markdown",
   "metadata": {},
   "source": [
    "# Addressing multi-collinearity"
   ]
  },
  {
   "cell_type": "markdown",
   "metadata": {},
   "source": [
    "R-squared falls from around 0.9 to around 0.2, but the MSE remains fairly the same. In other words the predictive ability is the same for both data sets, but the R-squared would lead you to believe the first example somehow had a model with more predictive power.\n",
    "\n",
    "---\n",
    "\n",
    "The problem we just tackled was particularly well suited for a linear model: purely linear relationship between features and the response variable, and no correlations between features. The issue arises when there are multiple (linearly) correlated features (as is the case with very many real life datasets), the model then becomes unstable, meaning small changes in the data can cause large changes in the model (i.e. coefficient values), making model interpretation very difficult.\n",
    "\n",
    "For example, assume we have a dataset where the \"true\" model for the data is $Y = X1 + X2$, while we observe $\\hat{Y} = X1 + X2 + \\epsilon$, with $\\epsilon$ being the error term. On top of that let's say $X1$ and $X2$ are linearly correlated such that $X1 \\approx X2$. Ideally the learned model will be $Y = X1 + X2$. But depending on the amount of noise $\\epsilon$, the amount of data at hand and the correlation between $X1$ and $X2$, it could also be $Y = 2X1$ (i.e. using only $X1$ as the predictor) or $Y = −X1 + 3X2$ (shifting of the coefficients might happen to give a better fit in the noisy training set) etc."
   ]
  },
  {
   "cell_type": "code",
   "execution_count": 8,
   "metadata": {},
   "outputs": [
    {
     "name": "stdout",
     "output_type": "stream",
     "text": [
      "Linear model: -1.291 * X1 + 1.591 * X2 + 2.747 * X3\n",
      "rsquared: 0.907885896631\n"
     ]
    }
   ],
   "source": [
    "def generate_random_data(size, seed):\n",
    "    \"\"\"Example of collinear features existing within the data\"\"\"\n",
    "    rstate = np.random.RandomState(seed)\n",
    "    X_seed = rstate.normal(0, 1, size)\n",
    "    X1 = X_seed + rstate.normal(0, .1, size)\n",
    "    X2 = X_seed + rstate.normal(0, .1, size)\n",
    "    X3 = X_seed + rstate.normal(0, .1, size)\n",
    "    y = X1 + X2 + X3 + rstate.normal(0, 1, size)\n",
    "    X = np.array([X1, X2, X3]).T\n",
    "    return X, y\n",
    "    \n",
    "\n",
    "seed = 5\n",
    "size = 100\n",
    "X, y = generate_random_data(size, seed)\n",
    "\n",
    "linear = LinearRegression()\n",
    "linear.fit(X, y)\n",
    "print('Linear model:', pretty_print_linear(linear))\n",
    "print('rsquared:', linear.score(X, y))"
   ]
  },
  {
   "cell_type": "markdown",
   "metadata": {},
   "source": [
    "The coefficients of our fitted linear model sums up to ~3, so we can expect it to perform well. On the other hand, if we were to interpret the coefficients at face value, then according to the model $X3$ has a strong positive impact on the output variable, while $X1$ has a negative one, when in fact all the features are correlated and should have equal effects to the output variable. This multicollearity issue also applies to other methods/algorithms and should be addressed before feeding our data to a machine learning method/algorithm.\n",
    "\n",
    "## Variance Inflation Factor\n",
    "\n",
    "One of the most widely used statistical measure of detecting multicollinearity amongst numerical variable is the **Variance Inflation Factor (VIF)**. The VIF may be calculated for each predictor by performing a linear regression of that predictor on all the other predictors, i.e. if we wish to calculate the VIF for predictor $x_k$, then we would use that column as the response variable and use all other columns excluding $x_k$ as the input. After fitted the linear regression, we would then obtain the rsquared value, $R^2$, which tells us how much variance in our predictor $x_k$ can be explained by all the other predictors. Lastly the VIF can be computed using:\n",
    "\n",
    "$$\n",
    "\\begin{align}\n",
    "VIF = \\frac{1}{1 - R^2}\n",
    "\\end{align}\n",
    "$$\n",
    "\n",
    "It’s called the variance inflation factor because it estimates how much the variance of a coefficient is \"inflated\" because of linear dependence with other predictors. Thus, a VIF of 1.8 tells us that the variance (the square of the standard error) of a particular coefficient is 80% larger than it would be if that predictor was completely uncorrelated with all the other predictors."
   ]
  },
  {
   "cell_type": "code",
   "execution_count": 9,
   "metadata": {
    "collapsed": true
   },
   "outputs": [],
   "source": [
    "def remove_collinearity(X, colnames = None, threshold = 5.0):\n",
    "    \"\"\"\n",
    "    Identify multi-collinearity between the numeric variables\n",
    "    using variance inflation factor (vif)\n",
    "    \"\"\"\n",
    "    if colnames is None:\n",
    "        colnames = ['feature' + str(j) for j in range(1, X.shape[1] + 1)]\n",
    "\n",
    "    while True:\n",
    "        n_features = X.shape[1]\n",
    "        if n_features == 1:\n",
    "            break\n",
    "\n",
    "        vif = [compute_vif(X, index) for index in range(n_features)]\n",
    "        max_index = np.argmax(vif)\n",
    "        if vif[max_index] >= threshold:\n",
    "            removed = colnames[max_index]\n",
    "            colnames.remove(removed)\n",
    "            X = np.delete(X, max_index, axis = 1)\n",
    "        else:\n",
    "            break\n",
    "\n",
    "    return X, colnames\n",
    "\n",
    "\n",
    "def compute_vif(X, target_index):\n",
    "    \"\"\"\n",
    "    Similar implementation as statsmodel's variance_inflation_factor\n",
    "    with some enhancemants:\n",
    "    1. includes the intercept by default\n",
    "    2. prevents float division errors (dividing by 0)\n",
    "\n",
    "    References\n",
    "    ----------\n",
    "    http://www.statsmodels.org/dev/generated/statsmodels.stats.outliers_influence.variance_inflation_factor.html\n",
    "    \"\"\"\n",
    "    n_features = X.shape[1]\n",
    "    X_target = X[:, target_index]\n",
    "    mask = np.arange(n_features) != target_index\n",
    "    X_not_target = X[:, mask]\n",
    "\n",
    "    linear = LinearRegression()\n",
    "    linear.fit(X_not_target, X_target)\n",
    "    rsquared = linear.score(X_not_target, X_target)\n",
    "    vif = 1. / (1. - rsquared + 1e-5)\n",
    "    return vif"
   ]
  },
  {
   "cell_type": "code",
   "execution_count": 10,
   "metadata": {},
   "outputs": [
    {
     "name": "stdout",
     "output_type": "stream",
     "text": [
      "remaining feature: ['feature3']\n",
      "Linear model: 3.024 * X1\n",
      "rsquared: 0.903735567258\n"
     ]
    }
   ],
   "source": [
    "# removing collinearity, thus redundant features\n",
    "# while still retaining predictive power\n",
    "X, colnames = remove_collinearity(X)\n",
    "print('remaining feature:', colnames)\n",
    "\n",
    "linear = LinearRegression()\n",
    "linear.fit(X, y)\n",
    "print('Linear model:', pretty_print_linear(linear))\n",
    "print('rsquared:', linear.score(X, y))"
   ]
  },
  {
   "cell_type": "markdown",
   "metadata": {},
   "source": [
    "## Cramer's V\n",
    "\n",
    "Now that we've discussed the method for detecting collinearity amongst numerical variables, we will shift our gears towards categorical variables. **Cramer’s V** is a statistic measuring the strength of association or dependency between two (nominal) categorical variables.\n",
    "\n",
    "Suppose $X$ and $Y$ are two categorical variables that are to be analyzed in a some experimental or observational data with the following information: \n",
    "\n",
    "- $X$ has $M$ distinct categories or classes, labeled $X_1,\\ldots,X_M$.\n",
    "- $Y$ has $N$ distinct categories, labeled $Y_1,\\ldots,Y_N$.\n",
    "- Form a $M\\times N$ contingency table such that cell $(i,j)$ contains the count $n_{ij}$ of occurrences of category $X_i$ in $X$ and category $Y_j$ in $Y$. This would give us $n$ total pairs of observations.\n",
    "\n",
    "We start of with the null hypothesis that $X$ and $Y$ are independent random variables, then based on the table and the null hypothesis, the chi-squared statistic $\\chi^2$ can be computed. After that, Cramer's V is defined to be:\n",
    "\n",
    "$$\n",
    "\\begin{align}\n",
    "V=V(X,Y)=\\sqrt{\\frac{\\chi^2}{n\\operatorname{min}(M-1,N-1)}}\n",
    "\\end{align}\n",
    "$$\n",
    "\n",
    "Remarks:\n",
    "\n",
    "- $0\\leq V\\leq 1$.  The closer $V$ is to 0, the smaller the association between the categorical variables $X$ and $Y$.  On the other hand, $V$ being close to 1 is an indication of a strong association between $X$ and $Y$. If $X=Y$, then $V(X,Y)=1$.\n",
    "- In order for $V$ to make sense, each categorical variable must have at least 2 categories.\n",
    "- If one of the categorical variables is dichotomous, i.e. either $M$ or $N=2$, Cramer's V is equal to the **phi statistic** ($\\Phi$), which is defined to be $\\Phi=\\sqrt{\\frac{\\chi^2}{n}}$.\n",
    "- Cramer's V is a chi-square based measure of association. The chi-square value depends on the strength of the relationship and sample size, while eliminates the sample size by dividing chi-square by $n$, the sample size, and taking the square root."
   ]
  },
  {
   "cell_type": "code",
   "execution_count": 11,
   "metadata": {},
   "outputs": [
    {
     "data": {
      "text/html": [
       "<div>\n",
       "<style>\n",
       "    .dataframe thead tr:only-child th {\n",
       "        text-align: right;\n",
       "    }\n",
       "\n",
       "    .dataframe thead th {\n",
       "        text-align: left;\n",
       "    }\n",
       "\n",
       "    .dataframe tbody tr th {\n",
       "        vertical-align: top;\n",
       "    }\n",
       "</style>\n",
       "<table border=\"1\" class=\"dataframe\">\n",
       "  <thead>\n",
       "    <tr style=\"text-align: right;\">\n",
       "      <th>b</th>\n",
       "      <th>cat</th>\n",
       "      <th>dog</th>\n",
       "    </tr>\n",
       "    <tr>\n",
       "      <th>a</th>\n",
       "      <th></th>\n",
       "      <th></th>\n",
       "    </tr>\n",
       "  </thead>\n",
       "  <tbody>\n",
       "    <tr>\n",
       "      <th>chat</th>\n",
       "      <td>3</td>\n",
       "      <td>0</td>\n",
       "    </tr>\n",
       "    <tr>\n",
       "      <th>chicken</th>\n",
       "      <td>0</td>\n",
       "      <td>4</td>\n",
       "    </tr>\n",
       "  </tbody>\n",
       "</table>\n",
       "</div>"
      ],
      "text/plain": [
       "b        cat  dog\n",
       "a                \n",
       "chat       3    0\n",
       "chicken    0    4"
      ]
     },
     "execution_count": 11,
     "metadata": {},
     "output_type": "execute_result"
    }
   ],
   "source": [
    "# generate a correlated categorical variable\n",
    "# and see if cramer's v method will detect it\n",
    "df = pd.DataFrame(index = range(1, 8))\n",
    "df['a'] = ['chicken', 'chicken', 'chicken', 'chicken', 'chat', 'chat', 'chat']\n",
    "df['b'] = ['dog', 'dog', 'dog', 'dog', 'cat', 'cat', 'cat']\n",
    "observed = pd.crosstab(df['a'], df['b'])\n",
    "observed"
   ]
  },
  {
   "cell_type": "code",
   "execution_count": 12,
   "metadata": {},
   "outputs": [
    {
     "data": {
      "text/plain": [
       "1.0"
      ]
     },
     "execution_count": 12,
     "metadata": {},
     "output_type": "execute_result"
    }
   ],
   "source": [
    "def compute_cramersv(observed, correction = False):\n",
    "    \"\"\"\n",
    "    Parameters\n",
    "    ----------\n",
    "    observed : 2d ndarray\n",
    "        The contingency table. The table contains the observed frequencies\n",
    "        (i.e. number of occurrences) for each category.\n",
    "\n",
    "    correction : bool, default False\n",
    "        If True, and the degrees of freedom is 1, apply Yates’ correction for continuity.\n",
    "        The effect of the correction is to adjust each observed value by 0.5 towards the\n",
    "        corresponding expected value. This is set to False by defualt as the effect of\n",
    "        Yates' correction is to prevent overestimation of statistical significance for small\n",
    "        data. i.e. It is chiefly used when at least one cell of the table has an expected\n",
    "        count smaller than 5. And most people probably aren't working with a data size that's\n",
    "        that small.\n",
    "\n",
    "    Returns\n",
    "    -------\n",
    "    cramersv : float\n",
    "    \"\"\"\n",
    "    n_obs = observed.sum()\n",
    "    n_row, n_col = observed.shape\n",
    "    chi2 = chi2_contingency(observed, correction = correction)[0]\n",
    "    cramersv = np.sqrt(chi2 / (n_obs * min(n_row - 1, n_col - 1)))\n",
    "    return cramersv\n",
    "\n",
    "\n",
    "correction = False\n",
    "observed = observed.values\n",
    "compute_cramersv(observed, correction)"
   ]
  },
  {
   "cell_type": "markdown",
   "metadata": {},
   "source": [
    "# Reference"
   ]
  },
  {
   "cell_type": "markdown",
   "metadata": {},
   "source": [
    "- [This pynb code](https://github.com/ethen8181/machine-learning/blob/master/model_selection/collinearity.ipynb)\n",
    "- [Blog: Cramer’s V](http://planetmath.org/cramersv)\n",
    "- [Blog: Is R-squared Useless?](http://data.library.virginia.edu/is-r-squared-useless/)\n",
    "- [Blog: Deriving normal equation](https://wiseodd.github.io/techblog/2017/04/14/normal-equation/)\n",
    "- [Blog: The Principle of Maximum Likelihood](http://suriyadeepan.github.io/2017-01-22-mle-linear-regression/)\n",
    "- [Blog: The Normal Equation and matrix calculus](https://eli.thegreenplace.net/2015/the-normal-equation-and-matrix-calculus/)\n",
    "- [Blog: When Can You Safely Ignore Multicollinearity?](https://statisticalhorizons.com/multicollinearity)\n",
    "- [Blog: Selecting good features – Part II: linear models and regularization\n",
    "](http://blog.datadive.net/selecting-good-features-part-ii-linear-models-and-regularization/)\n",
    "- [Blog: How to Identify the Most Important Predictor Variables in Regression Models](http://blog.minitab.com/blog/adventures-in-statistics-2/how-to-identify-the-most-important-predictor-variables-in-regression-models)\n",
    "- [Github: Duplicate (and highly correlated) categoricals](https://github.com/JosPolfliet/pandas-profiling/issues/40)"
   ]
  },
  {
   "cell_type": "code",
   "execution_count": null,
   "metadata": {},
   "outputs": [],
   "source": []
  }
 ],
 "metadata": {
  "kernelspec": {
   "display_name": "trainingAI",
   "language": "python",
   "name": "trainingai"
  },
  "language_info": {
   "codemirror_mode": {
    "name": "ipython",
    "version": 3
   },
   "file_extension": ".py",
   "mimetype": "text/x-python",
   "name": "python",
   "nbconvert_exporter": "python",
   "pygments_lexer": "ipython3",
   "version": "3.8.5"
  },
  "toc": {
   "nav_menu": {
    "height": "12px",
    "width": "252px"
   },
   "number_sections": true,
   "sideBar": true,
   "skip_h1_title": false,
   "title_cell": "Table of Contents",
   "title_sidebar": "Contents",
   "toc_cell": true,
   "toc_position": {},
   "toc_section_display": "block",
   "toc_window_display": true
  },
  "varInspector": {
   "cols": {
    "lenName": 16,
    "lenType": 16,
    "lenVar": 40
   },
   "kernels_config": {
    "python": {
     "delete_cmd_postfix": "",
     "delete_cmd_prefix": "del ",
     "library": "var_list.py",
     "varRefreshCmd": "print(var_dic_list())"
    },
    "r": {
     "delete_cmd_postfix": ") ",
     "delete_cmd_prefix": "rm(",
     "library": "var_list.r",
     "varRefreshCmd": "cat(var_dic_list()) "
    }
   },
   "types_to_exclude": [
    "module",
    "function",
    "builtin_function_or_method",
    "instance",
    "_Feature"
   ],
   "window_display": false
  }
 },
 "nbformat": 4,
 "nbformat_minor": 2
}
